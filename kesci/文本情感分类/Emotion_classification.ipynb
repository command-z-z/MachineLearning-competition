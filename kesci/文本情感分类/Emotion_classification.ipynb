{
 "cells": [
  {
   "cell_type": "markdown",
   "metadata": {},
   "source": [
    "### Import Package"
   ]
  },
  {
   "cell_type": "code",
   "execution_count": 11,
   "metadata": {},
   "outputs": [],
   "source": [
    "import re\n",
    "import pandas as pd\n",
    "import numpy as np\n",
    "from sklearn.naive_bayes import MultinomialNB as MNB\n",
    "from sklearn.cross_validation import cross_val_score\n",
    "from sklearn.feature_extraction.text import TfidfVectorizer\n",
    "from sklearn.linear_model import LogisticRegression as LR"
   ]
  },
  {
   "cell_type": "markdown",
   "metadata": {},
   "source": [
    "----"
   ]
  },
  {
   "cell_type": "markdown",
   "metadata": {},
   "source": [
    "### Load Data"
   ]
  },
  {
   "cell_type": "code",
   "execution_count": 12,
   "metadata": {},
   "outputs": [
    {
     "data": {
      "text/html": [
       "<div>\n",
       "<style scoped>\n",
       "    .dataframe tbody tr th:only-of-type {\n",
       "        vertical-align: middle;\n",
       "    }\n",
       "\n",
       "    .dataframe tbody tr th {\n",
       "        vertical-align: top;\n",
       "    }\n",
       "\n",
       "    .dataframe thead th {\n",
       "        text-align: right;\n",
       "    }\n",
       "</style>\n",
       "<table border=\"1\" class=\"dataframe\">\n",
       "  <thead>\n",
       "    <tr style=\"text-align: right;\">\n",
       "      <th></th>\n",
       "      <th>ID</th>\n",
       "      <th>review</th>\n",
       "      <th>label</th>\n",
       "    </tr>\n",
       "  </thead>\n",
       "  <tbody>\n",
       "    <tr>\n",
       "      <th>0</th>\n",
       "      <td>1</td>\n",
       "      <td>Jo bhi ap se tou behtar hoon</td>\n",
       "      <td>Negative</td>\n",
       "    </tr>\n",
       "    <tr>\n",
       "      <th>1</th>\n",
       "      <td>2</td>\n",
       "      <td>ya Allah meri sister Affia ki madad farma</td>\n",
       "      <td>Positive</td>\n",
       "    </tr>\n",
       "    <tr>\n",
       "      <th>2</th>\n",
       "      <td>3</td>\n",
       "      <td>Yeh khud chahta a is umar main shadi krna.  ha...</td>\n",
       "      <td>Negative</td>\n",
       "    </tr>\n",
       "    <tr>\n",
       "      <th>3</th>\n",
       "      <td>4</td>\n",
       "      <td>Tc ? Apky mun xe exe alfax achy nae lgty 😒💃</td>\n",
       "      <td>Negative</td>\n",
       "    </tr>\n",
       "    <tr>\n",
       "      <th>4</th>\n",
       "      <td>5</td>\n",
       "      <td>Good</td>\n",
       "      <td>Positive</td>\n",
       "    </tr>\n",
       "  </tbody>\n",
       "</table>\n",
       "</div>"
      ],
      "text/plain": [
       "   ID                                             review     label\n",
       "0   1                       Jo bhi ap se tou behtar hoon  Negative\n",
       "1   2          ya Allah meri sister Affia ki madad farma  Positive\n",
       "2   3  Yeh khud chahta a is umar main shadi krna.  ha...  Negative\n",
       "3   4        Tc ? Apky mun xe exe alfax achy nae lgty 😒💃  Negative\n",
       "4   5                                               Good  Positive"
      ]
     },
     "execution_count": 12,
     "metadata": {},
     "output_type": "execute_result"
    }
   ],
   "source": [
    "train_data = pd.read_csv('train.csv', lineterminator='\\n') # 行分隔符 = '\\n'\n",
    "test_data = pd.read_csv('20190520_test.csv', lineterminator='\\n')\n",
    "train_data.head()"
   ]
  },
  {
   "cell_type": "code",
   "execution_count": 13,
   "metadata": {},
   "outputs": [],
   "source": [
    "train_data['label'] = train_data['label'].map({'Negative':0, 'Positive':1})"
   ]
  },
  {
   "cell_type": "markdown",
   "metadata": {},
   "source": [
    "----"
   ]
  },
  {
   "cell_type": "markdown",
   "metadata": {},
   "source": [
    "### Data cleaning"
   ]
  },
  {
   "cell_type": "code",
   "execution_count": 14,
   "metadata": {},
   "outputs": [],
   "source": [
    "rmSignal = ['.', '?', '!', ':', '-', '+', '/', '\"', ',']\n",
    "def review_to_words(data):\n",
    "    \n",
    "    # 正则去除表情\n",
    "    emoji_pattern = re.compile(u'[\\U00010000-\\U0010ffff]')\n",
    "    data = emoji_pattern.sub(u'', data)\n",
    "    \n",
    "    # 正则去除标点\n",
    "    fuhao_pattern = re.compile(u'\\.*')\n",
    "    data = fuhao_pattern.sub(u'', data)\n",
    "    \n",
    "    # 正则去除数字\n",
    "    digit_pattern = re.compile(u'\\d+')\n",
    "    data = digit_pattern.sub(u'', data)\n",
    "    \n",
    "    # 空格拆分词语\n",
    "    words = data.lower().split()\n",
    "    \n",
    "    # 去掉rmSignal\n",
    "    meaningful_words = [w for w in words if not w in rmSignal]\n",
    "    \n",
    "    # 将筛分好的词合成一个字符串，并用空格分开\n",
    "    words = \" \".join(meaningful_words)\n",
    "    return words"
   ]
  },
  {
   "cell_type": "code",
   "execution_count": 15,
   "metadata": {
    "scrolled": true
   },
   "outputs": [
    {
     "data": {
      "text/plain": [
       "['jo bhi ap se tou behtar hoon',\n",
       " 'ya allah meri sister affia ki madad farma',\n",
       " 'yeh khud chahta a is umar main shadi krna had ogi',\n",
       " 'tc apky mun xe exe alfax achy nae lgty',\n",
       " 'good']"
      ]
     },
     "execution_count": 15,
     "metadata": {},
     "output_type": "execute_result"
    }
   ],
   "source": [
    "clean_train_reviews = []\n",
    "for i in range(0, len(train_data)):\n",
    "    clean_train_reviews.append(review_to_words(train_data['review'][i]))\n",
    "clean_train_reviews[:5]"
   ]
  },
  {
   "cell_type": "markdown",
   "metadata": {},
   "source": [
    "----"
   ]
  },
  {
   "cell_type": "markdown",
   "metadata": {},
   "source": [
    "### Generate Bag of Words"
   ]
  },
  {
   "cell_type": "code",
   "execution_count": 16,
   "metadata": {
    "scrolled": true
   },
   "outputs": [
    {
     "data": {
      "text/plain": [
       "['اے', 'بیٹھی', 'جیڑی', 'سی', 'ناں', 'کردی', 'کر', 'ھاں', '賭easar', '鄭h']"
      ]
     },
     "execution_count": 16,
     "metadata": {},
     "output_type": "execute_result"
    }
   ],
   "source": [
    "tfv = TfidfVectorizer()\n",
    "train_data_features = tfv.fit_transform(clean_train_reviews)\n",
    "train_data_features = train_data_features.toarray()\n",
    "cntWords = sorted(tfv.vocabulary_, key=lambda x:x[0])\n",
    "cntWords[-10:] # 十个出现频率最高的词语"
   ]
  },
  {
   "cell_type": "markdown",
   "metadata": {},
   "source": [
    "----"
   ]
  },
  {
   "cell_type": "markdown",
   "metadata": {},
   "source": [
    "## Model Select"
   ]
  },
  {
   "cell_type": "markdown",
   "metadata": {},
   "source": [
    "### Multinomial Bayes"
   ]
  },
  {
   "cell_type": "code",
   "execution_count": 18,
   "metadata": {},
   "outputs": [
    {
     "data": {
      "text/plain": [
       "MultinomialNB(alpha=1.0, class_prior=None, fit_prior=True)"
      ]
     },
     "execution_count": 18,
     "metadata": {},
     "output_type": "execute_result"
    }
   ],
   "source": [
    "model_NB = MNB()\n",
    "model_NB.fit(train_data_features,train_data[\"label\"])"
   ]
  },
  {
   "cell_type": "code",
   "execution_count": 19,
   "metadata": {},
   "outputs": [
    {
     "name": "stdout",
     "output_type": "stream",
     "text": [
      "多项式贝叶斯分类器20折交叉验证得分:  0.8614076771593228\n"
     ]
    }
   ],
   "source": [
    "score = np.mean(cross_val_score(model_NB,train_data_features, train_data[\"label\"], cv=20, scoring='roc_auc'))\n",
    "print(\"多项式贝叶斯分类器20折交叉验证得分: \",score) # 0.8614076771593228"
   ]
  },
  {
   "cell_type": "markdown",
   "metadata": {},
   "source": [
    "### Logistic Regression"
   ]
  },
  {
   "cell_type": "code",
   "execution_count": 20,
   "metadata": {},
   "outputs": [
    {
     "data": {
      "text/plain": [
       "LogisticRegression(C=1.0, class_weight=None, dual=False, fit_intercept=True,\n",
       "          intercept_scaling=1, max_iter=100, multi_class='ovr', n_jobs=1,\n",
       "          penalty='l2', random_state=0, solver='liblinear', tol=0.0001,\n",
       "          verbose=0, warm_start=False)"
      ]
     },
     "execution_count": 20,
     "metadata": {},
     "output_type": "execute_result"
    }
   ],
   "source": [
    "model_LR = LR(random_state = 0)\n",
    "model_LR.fit(train_data_features,train_data[\"label\"])"
   ]
  },
  {
   "cell_type": "code",
   "execution_count": 21,
   "metadata": {},
   "outputs": [
    {
     "name": "stdout",
     "output_type": "stream",
     "text": [
      "Logistic Regression20折交叉验证得分:  0.844763864535499\n"
     ]
    }
   ],
   "source": [
    "score = np.mean(cross_val_score(model_LR,train_data_features, train_data[\"label\"], cv=20, scoring='roc_auc'))\n",
    "print(\"Logistic Regression20折交叉验证得分: \", score) # 0.844763864535499"
   ]
  },
  {
   "cell_type": "markdown",
   "metadata": {},
   "source": [
    "### Predict"
   ]
  },
  {
   "cell_type": "code",
   "execution_count": 22,
   "metadata": {},
   "outputs": [
    {
     "data": {
      "text/plain": [
       "['phr tissuw se saaf',\n",
       " 'jail road per firing se shakhs janbahaq',\n",
       " 'mehfil loot li aunty ne',\n",
       " 'rehnay do butt sahb nay galiya boht deni hain',\n",
       " 'zabardast']"
      ]
     },
     "execution_count": 22,
     "metadata": {},
     "output_type": "execute_result"
    }
   ],
   "source": [
    "clean_test_reviews = []\n",
    "for i in range(0, len(test_data[\"review\"])):\n",
    "    clean_test_reviews.append(review_to_words(test_data[\"review\"][i]))\n",
    "clean_test_reviews[:5]"
   ]
  },
  {
   "cell_type": "code",
   "execution_count": 23,
   "metadata": {},
   "outputs": [],
   "source": [
    "test_data_features = tfv.transform(clean_test_reviews)\n",
    "test_data_features = test_data_features.toarray()"
   ]
  },
  {
   "cell_type": "code",
   "execution_count": 24,
   "metadata": {},
   "outputs": [],
   "source": [
    "result = model_NB.predict_proba(test_data_features)\n",
    "#print(result[:,1])\n",
    "output = pd.DataFrame(data={\"ID\":test_data[\"ID\"], \"Pred\":result[:,1]})\n",
    "output.to_csv(\"out_model.csv\", index=False, quoting=3)"
   ]
  },
  {
   "cell_type": "markdown",
   "metadata": {},
   "source": [
    "---"
   ]
  },
  {
   "cell_type": "markdown",
   "metadata": {},
   "source": [
    "### fastText"
   ]
  },
  {
   "cell_type": "code",
   "execution_count": 25,
   "metadata": {},
   "outputs": [],
   "source": [
    "import fasttext"
   ]
  },
  {
   "cell_type": "code",
   "execution_count": 51,
   "metadata": {},
   "outputs": [
    {
     "data": {
      "text/plain": [
       "['jo bhi ap se tou behtar hoon\\t__label__0',\n",
       " 'ya allah meri sister affia ki madad farma\\t__label__1',\n",
       " 'yeh khud chahta is umar main shadi krna had ogi\\t__label__0',\n",
       " 'tc apky mun xe exe alfax achy nae lgty\\t__label__0',\n",
       " 'good\\t__label__1']"
      ]
     },
     "execution_count": 51,
     "metadata": {},
     "output_type": "execute_result"
    }
   ],
   "source": [
    "def review_to_words(data, category):\n",
    "    \n",
    "    # 正则去除表情\n",
    "    emoji_pattern = re.compile(u'[\\U00010000-\\U0010ffff]')\n",
    "    data = emoji_pattern.sub(u'', data)\n",
    "    \n",
    "    # 正则去除标点\n",
    "    fuhao_pattern = re.compile(u'\\.*')\n",
    "    data = fuhao_pattern.sub(u'', data)\n",
    "    \n",
    "    # 正则去除数字\n",
    "    digit_pattern = re.compile(u'\\d+')\n",
    "    data = digit_pattern.sub(u'', data)\n",
    "    \n",
    "    # 空格拆分词语\n",
    "    words = data.lower().split()\n",
    "    \n",
    "    # 去掉rmSignal\n",
    "    meaningful_words = [w for w in words if not w in rmSignal and len(w) > 1]\n",
    "    \n",
    "    # 将筛分好的词合成一个字符串，并用空格分开\n",
    "    words = \" \".join(meaningful_words)\n",
    "    words += \"\\t__label__\" + str(category)\n",
    "    return words\n",
    "\n",
    "clean_train_reviews = []\n",
    "for i in range(0, len(train_data)):\n",
    "    clean_train_reviews.append(review_to_words(train_data['review'][i], train_data['label'][i]))\n",
    "clean_train_reviews[:5]"
   ]
  },
  {
   "cell_type": "code",
   "execution_count": 52,
   "metadata": {},
   "outputs": [
    {
     "name": "stdout",
     "output_type": "stream",
     "text": [
      "writing...\n",
      "done\n"
     ]
    }
   ],
   "source": [
    "print('writing...')\n",
    "out = open('train_data.txt', 'w')\n",
    "for sentences in clean_train_reviews:\n",
    "    out.write(sentences + \"\\n\")\n",
    "print('done')"
   ]
  },
  {
   "cell_type": "code",
   "execution_count": 53,
   "metadata": {},
   "outputs": [
    {
     "name": "stdout",
     "output_type": "stream",
     "text": [
      "0.9058154235145386\n"
     ]
    }
   ],
   "source": [
    "classifier = fasttext.supervised('train_data.txt', 'classifier.model', label_prefix = '__label__')\n",
    "result = classifier.test('train_data.txt')\n",
    "print(result.precision)"
   ]
  },
  {
   "cell_type": "code",
   "execution_count": 54,
   "metadata": {},
   "outputs": [],
   "source": [
    "labels = classifier.predict_proba(clean_test_reviews)\n",
    "result = []\n",
    "for i in labels:\n",
    "    if i[0][0] == '0':\n",
    "        result.append(1 - i[0][1])\n",
    "    else:\n",
    "        result.append(i[0][1])"
   ]
  },
  {
   "cell_type": "code",
   "execution_count": 55,
   "metadata": {},
   "outputs": [],
   "source": [
    "output = pd.DataFrame(data={\"ID\":test_data[\"ID\"], \"Pred\":result})\n",
    "output.to_csv(\"out_model.csv\", index=False, quoting=3)"
   ]
  }
 ],
 "metadata": {
  "kernelspec": {
   "display_name": "Python 3",
   "language": "python",
   "name": "python3"
  },
  "language_info": {
   "codemirror_mode": {
    "name": "ipython",
    "version": 3
   },
   "file_extension": ".py",
   "mimetype": "text/x-python",
   "name": "python",
   "nbconvert_exporter": "python",
   "pygments_lexer": "ipython3",
   "version": "3.6.5"
  }
 },
 "nbformat": 4,
 "nbformat_minor": 2
}
